{
 "cells": [
  {
   "cell_type": "markdown",
   "metadata": {},
   "source": [
    "1. Defining function (\"fibonacci\")"
   ]
  },
  {
   "cell_type": "code",
   "execution_count": 1,
   "metadata": {},
   "outputs": [
    {
     "name": "stdout",
     "output_type": "stream",
     "text": [
      "[1, 1, 2, 3, 5, 8, 13, 21, 34, 55]\n"
     ]
    }
   ],
   "source": [
    "def fibonacci(N):\n",
    "    L = []\n",
    "    a, b = 0, 1\n",
    "    while len(L) < N:\n",
    "        a, b = b, a + b \n",
    "        L.append(a)\n",
    "    return L\n",
    "print(fibonacci(10))"
   ]
  },
  {
   "cell_type": "markdown",
   "metadata": {},
   "source": [
    "2. Default Argument Values"
   ]
  },
  {
   "cell_type": "code",
   "execution_count": 4,
   "metadata": {},
   "outputs": [
    {
     "name": "stdout",
     "output_type": "stream",
     "text": [
      "[3, 4, 7, 11, 18, 29, 47, 76, 123, 199]\n"
     ]
    }
   ],
   "source": [
    "def fibonacci(N, a=0, b=1):\n",
    "    L = []\n",
    "    while len(L) < N:\n",
    "        a, b = b, a + b\n",
    "        L.append(a)\n",
    "    return L\n",
    "print(fibonacci(10, b=3, a=1))"
   ]
  },
  {
   "cell_type": "markdown",
   "metadata": {},
   "source": [
    "3.Flexible Argument : *args (catchs all unnamed arguments as a tuple) ; **kwargs (catchs all keword arguments as a Dict for example)"
   ]
  },
  {
   "cell_type": "code",
   "execution_count": 9,
   "metadata": {},
   "outputs": [
    {
     "name": "stdout",
     "output_type": "stream",
     "text": [
      "args = (1, 2, 3) This is of type: <class 'tuple'>\n",
      "kwargs =  {'a': 4, 'b': 5} This is of type: <class 'dict'>\n",
      "<function catch_all at 0x000001C367279940>\n"
     ]
    }
   ],
   "source": [
    "\n",
    "def catch_all(*args, **kwargs):\n",
    "    print(\"args =\", args, \"This is of type:\", type(args))\n",
    "    print(\"kwargs = \", kwargs, \"This is of type:\", type(kwargs))\n",
    "catch_all(1, 2, 3, a=4, b=5)\n",
    "print(catch_all)\n",
    "   "
   ]
  },
  {
   "cell_type": "markdown",
   "metadata": {},
   "source": [
    "4. Functions as variables"
   ]
  },
  {
   "cell_type": "code",
   "execution_count": 10,
   "metadata": {},
   "outputs": [
    {
     "name": "stdout",
     "output_type": "stream",
     "text": [
      "5\n",
      "fun has a type of: <class 'function'>\n"
     ]
    }
   ],
   "source": [
    "def add(a , b):\n",
    "    return a + b\n",
    "\n",
    "fun = add\n",
    "\n",
    "print (fun(2 , 3))\n",
    "print (\"fun has a type of:\", type(fun))"
   ]
  },
  {
   "cell_type": "code",
   "execution_count": 11,
   "metadata": {},
   "outputs": [
    {
     "name": "stdout",
     "output_type": "stream",
     "text": [
      "-1\n"
     ]
    }
   ],
   "source": [
    "# calculative prog\n",
    "def sub(a , b):\n",
    "    return a - b\n",
    "\n",
    "input_value = '-'\n",
    "\n",
    "if input_value == '+':\n",
    "    operator_function = add\n",
    "elif input_value == '-':\n",
    "    operator_function = sub\n",
    "    \n",
    "# when the operator needs to be applied\n",
    "print(operator_function(2,3))"
   ]
  },
  {
   "cell_type": "markdown",
   "metadata": {},
   "source": [
    "5. Anonymous (lambda) Functions"
   ]
  },
  {
   "cell_type": "code",
   "execution_count": 12,
   "metadata": {},
   "outputs": [
    {
     "data": {
      "text/plain": [
       "3"
      ]
     },
     "execution_count": 12,
     "metadata": {},
     "output_type": "execute_result"
    }
   ],
   "source": [
    "add = lambda a, b: a + b\n",
    "add(1, 2)"
   ]
  },
  {
   "cell_type": "code",
   "execution_count": 13,
   "metadata": {},
   "outputs": [
    {
     "name": "stdout",
     "output_type": "stream",
     "text": [
      "-1\n"
     ]
    }
   ],
   "source": [
    "input_value = '-'\n",
    "\n",
    "if input_value == '+':\n",
    "    operator_function = lambda a, b: a + b\n",
    "elif input_value == '-':\n",
    "    operator_function = lambda a, b: a - b\n",
    "    \n",
    "# when the operator needs to be applied\n",
    "print(operator_function(2,3))"
   ]
  },
  {
   "cell_type": "markdown",
   "metadata": {},
   "source": [
    "6. Modules (Modules are seperate files that contain code that you can import into your code Python itself has very little functionality (eg built in functions))\n",
    "- use the \"import\" keyword (import math);\n",
    "- you can set an alias (import math as m);\n",
    "- You can import one or more functions from a module (from math import cos);\n",
    "- You can import all the functions (from math import *);\n",
    "\n",
    "Importing from Python's Standard Library:\n",
    "- os and sys: Tools for interfacing with the operating system, including navigating file directory structures and executing shell commands\n",
    "- math and cmath: Mathematical functions and operations on real and complex numbers\n",
    "- itertools: Tools for constructing and interacting with iterators and generators\n",
    "- functools: Tools that assist with functional programming\n",
    "- random: Tools for generating pseudorandom numbers\n",
    "- pickle: Tools for object persistence: saving objects to and loading objects from disk\n",
    "- json and csv: Tools for reading JSON-formatted and CSV-formatted files.\n",
    "- urllib: Tools for doing HTTP and other web requests.\n",
    "\n",
    "Importing from Third-Party Modules:\n",
    "- pip install the-module-you-wish-install\n",
    "!!! Anaconda has already installed most of the third party libraries(numpy,matplotlib,pandas)\n",
    "!!! To see all the modules installed on your machine and their version use the command: pip freeze and To save all this into a file eg requirements.txt use the redirect symbol > $ pip freeze > requirements.txt\n",
    "\n",
    "You can create your own modules and import them. It is as easy as:\n",
    "- Creating another pythong file eg my-module.py (This file of course can have any name)\n",
    "- saving it into the same directory as the python file that is going to import it\n",
    "- having the line import my-module"
   ]
  },
  {
   "cell_type": "code",
   "execution_count": null,
   "metadata": {},
   "outputs": [],
   "source": []
  }
 ],
 "metadata": {
  "kernelspec": {
   "display_name": "base",
   "language": "python",
   "name": "python3"
  },
  "language_info": {
   "codemirror_mode": {
    "name": "ipython",
    "version": 3
   },
   "file_extension": ".py",
   "mimetype": "text/x-python",
   "name": "python",
   "nbconvert_exporter": "python",
   "pygments_lexer": "ipython3",
   "version": "3.11.5"
  }
 },
 "nbformat": 4,
 "nbformat_minor": 2
}
