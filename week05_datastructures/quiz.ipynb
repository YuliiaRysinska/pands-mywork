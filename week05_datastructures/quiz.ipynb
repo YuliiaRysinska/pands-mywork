{
 "cells": [
  {
   "cell_type": "markdown",
   "metadata": {},
   "source": [
    "1. Look at this code and answer the questions below\n",
    "Questions: What are the variable types of the following variables in the code above"
   ]
  },
  {
   "cell_type": "code",
   "execution_count": 2,
   "metadata": {},
   "outputs": [],
   "source": [
    "numberOfQuestions = 5\n",
    "averageAge = 23.4\n",
    "debugMode = True\n",
    "name = \"joe\"\n",
    "ages = []\n",
    "months = ('Jan', 'Feb', 'Mar')\n",
    "book = {}\n",
    "stuff = [ 12 , 'Fred', False, {}]\n",
    "someone = dict(firstname = \"joe\")\n",
    "me = {\n",
    "    \"firstName\" : \"Andrew\",\n",
    "    \"teaching\" : [{\n",
    "        \"courseName\" : \"programming\",\n",
    "        \"semester\" : 1\n",
    "    },{\n",
    "        \"courseName\" : \"Data Representation\",\n",
    "        \"semester\" : 2\n",
    "    }\n",
    "    ]\n",
    "}"
   ]
  },
  {
   "cell_type": "markdown",
   "metadata": {},
   "source": [
    "2. Create a tuple that stores the months of the year, from that tuple create\n",
    "another tuple with just the summer months (May, June, July), print out the\n",
    "summer months one at a time."
   ]
  },
  {
   "cell_type": "code",
   "execution_count": 4,
   "metadata": {},
   "outputs": [
    {
     "name": "stdout",
     "output_type": "stream",
     "text": [
      "May\n",
      "June\n",
      "July\n"
     ]
    }
   ],
   "source": [
    "months =(\"January\",\n",
    "\"February\",\n",
    "\"March\",\n",
    "\"April\",\n",
    "\"May\",\n",
    "\"June\",\n",
    "\"July\",\n",
    "\"August\",\n",
    "\"September\",\n",
    "\"October\",\n",
    "\"November\",\n",
    "\"December\"\n",
    ")\n",
    "summer = months[4:7]\n",
    "for month in summer:\n",
    "    print(month)"
   ]
  },
  {
   "cell_type": "markdown",
   "metadata": {},
   "source": [
    "3. Create a program that puts 10 random numbers into a queue(list), the program should then output all the values in the queue, then take the\n",
    "numbers from the queue one at a time, print it and the current numbers still\n",
    "in the queue. (the command pop(0) takes the first element out of a list)"
   ]
  },
  {
   "cell_type": "code",
   "execution_count": 5,
   "metadata": {},
   "outputs": [
    {
     "name": "stdout",
     "output_type": "stream",
     "text": [
      "queue is [14, 67, 98, 94, 95, 49, 52, 16, 40, 69]\n",
      "current Number is 69 and the queue is [] \n",
      "the queue is now empty\n"
     ]
    }
   ],
   "source": [
    "import random\n",
    "queue = []\n",
    "numberOfNumbers=10\n",
    "rangeTo=100\n",
    "for n in range(0,numberOfNumbers):\n",
    "    queue.append(random.randint(0,rangeTo))\n",
    "print (f\"queue is {queue}\")\n",
    "while len(queue) != 0:\n",
    "    currentNumber = queue.pop(0)\n",
    "print (f\"current Number is {currentNumber} and the queue is {queue} \")\n",
    "print (f\"the queue is now empty\")\n"
   ]
  },
  {
   "cell_type": "markdown",
   "metadata": {},
   "source": [
    "4. Write a program that stores a student name and a list of her courses and\n",
    "grades in a dict, the program should then print out her data.\n",
    "The number of course she has could chang"
   ]
  },
  {
   "cell_type": "code",
   "execution_count": 6,
   "metadata": {},
   "outputs": [
    {
     "name": "stdout",
     "output_type": "stream",
     "text": [
      "Student: Mary\n",
      "\t Programming \t: 45\n",
      "\t History \t: 99\n"
     ]
    }
   ],
   "source": [
    "student = {\n",
    "\"name\":\"Mary\",\n",
    "\"modules\": [\n",
    "{\n",
    "\"courseName\":\"Programming\",\n",
    "\"grade\": 45\n",
    "},\n",
    "{\n",
    "\"courseName\":\"History\",\n",
    "\"grade\":99\n",
    "}\n",
    "]\n",
    "}\n",
    "print (\"Student: {}\".format(student[\"name\"]))\n",
    "for module in student[\"modules\"]:\n",
    "    print(\"\\t {} \\t: {}\".format(module[\"courseName\"], module[\"grade\"]))"
   ]
  }
 ],
 "metadata": {
  "kernelspec": {
   "display_name": "base",
   "language": "python",
   "name": "python3"
  },
  "language_info": {
   "codemirror_mode": {
    "name": "ipython",
    "version": 3
   },
   "file_extension": ".py",
   "mimetype": "text/x-python",
   "name": "python",
   "nbconvert_exporter": "python",
   "pygments_lexer": "ipython3",
   "version": "3.11.5"
  }
 },
 "nbformat": 4,
 "nbformat_minor": 2
}
